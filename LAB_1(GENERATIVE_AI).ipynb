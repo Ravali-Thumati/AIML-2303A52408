{
  "nbformat": 4,
  "nbformat_minor": 0,
  "metadata": {
    "colab": {
      "provenance": [],
      "authorship_tag": "ABX9TyMqJ+aDVFrDPcz6N5jNSV9/",
      "include_colab_link": true
    },
    "kernelspec": {
      "name": "python3",
      "display_name": "Python 3"
    },
    "language_info": {
      "name": "python"
    }
  },
  "cells": [
    {
      "cell_type": "markdown",
      "metadata": {
        "id": "view-in-github",
        "colab_type": "text"
      },
      "source": [
        "<a href=\"https://colab.research.google.com/github/Ravali-Thumati/AIML-2303A52408/blob/main/LAB_1(GENERATIVE_AI).ipynb\" target=\"_parent\"><img src=\"https://colab.research.google.com/assets/colab-badge.svg\" alt=\"Open In Colab\"/></a>"
      ]
    },
    {
      "cell_type": "code",
      "execution_count": null,
      "metadata": {
        "colab": {
          "base_uri": "https://localhost:8080/"
        },
        "id": "oV53tkmY_Nbw",
        "outputId": "9ddec990-09a8-478c-a5fb-2726b8ca15e7"
      },
      "outputs": [
        {
          "output_type": "stream",
          "name": "stdout",
          "text": [
            "Mean Absolute Error (MAE): 0.4600000000000016\n",
            "Mean Squared Error (MSE): 0.24600000000000147\n",
            "Root Mean Squared Error (RMSE): 0.49598387070549127\n"
          ]
        }
      ],
      "source": [
        "\n",
        "# Given data\n",
        "actual_values = [20,30,40,50,60]\n",
        "predicted_values = [20.5,30.3,40.2,50.6,60.7]\n",
        "\n",
        "\n",
        "# Calculate Mean Absolute Error (MAE)\n",
        "def mean_absolute_error(actual, predicted):\n",
        "    total_error = 0\n",
        "    for a, p in zip(actual, predicted):\n",
        "        total_error += abs(a - p)\n",
        "    return total_error / len(actual)\n",
        "\n",
        "# Calculate Mean Squared Error (MSE)\n",
        "def mean_squared_error(actual, predicted):\n",
        "    total_error = 0\n",
        "    for a, p in zip(actual, predicted):\n",
        "        total_error += (a - p) ** 2\n",
        "    return total_error / len(actual)\n",
        "\n",
        "# Calculate Root Mean Squared Error (RMSE)\n",
        "def root_mean_squared_error(actual, predicted):\n",
        "    mse = mean_squared_error(actual, predicted)\n",
        "    return mse ** 0.5\n",
        "\n",
        "# Calculate error metrics\n",
        "mae = mean_absolute_error(actual_values, predicted_values)\n",
        "mse = mean_squared_error(actual_values, predicted_values)\n",
        "rmse = root_mean_squared_error(actual_values, predicted_values)\n",
        "\n",
        "# Display results\n",
        "print(\"Mean Absolute Error (MAE):\", mae)\n",
        "print(\"Mean Squared Error (MSE):\", mse)\n",
        "print(\"Root Mean Squared Error (RMSE):\", rmse)"
      ]
    },
    {
      "cell_type": "code",
      "source": [
        "\n",
        "\n",
        "# Data\n",
        "y_actual = np.array([0, 1, 2, 0, 1, 0, 2, 2, 2, 2])\n",
        "y_pred = np.array([0, 1, 0, 0, 0, 1, 2, 1, 2, 2])\n",
        "\n",
        "# Confusion Matrix\n",
        "n_classes = len(np.unique(y_actual))  # Number of classes\n",
        "confusion_matrix = np.zeros((n_classes, n_classes), dtype=int)\n",
        "\n",
        "for a, p in zip(y_actual, y_pred):\n",
        "    confusion_matrix[a, p] += 1\n",
        "\n",
        "    # Metrics\n",
        "    correct = np.trace(confusion_matrix)  # Sum of diagonal (true positives)\n",
        "    total = np.sum(confusion_matrix)      # Total predictions\n",
        "    accuracy = correct / total            # Accuracy\n",
        "\n",
        "    precisions = []\n",
        "    recalls = []\n",
        "    f1_scores = []\n",
        "\n",
        "    for i in range(n_classes):\n",
        "        tp = confusion_matrix[i, i]\n",
        "        fp = np.sum(confusion_matrix[:, i]) - tp\n",
        "        fn = np.sum(confusion_matrix[i, :]) - tp\n",
        "\n",
        "        precision = tp / (tp + fp) if (tp + fp) > 0 else 0\n",
        "        recall = tp / (tp + fn) if (tp + fn) > 0 else 0\n",
        "        f1 = 2 * precision * recall / (precision + recall) if (precision + recall) > 0 else 0\n",
        "\n",
        "        precisions.append(precision)\n",
        "        recalls.append(recall)\n",
        "        f1_scores.append(f1)\n",
        "print(\"Using NumPy - Accuracy:\", accuracy)\n",
        "print(\"Precisions:\", precisions)\n",
        "print(\"Recalls:\", recalls)\n",
        "print(\"F1-Scores:\", f1_scores)\n",
        "\n",
        "\n",
        "\n",
        "\n"
      ],
      "metadata": {
        "colab": {
          "base_uri": "https://localhost:8080/"
        },
        "id": "QHjlH4Is-96V",
        "outputId": "7cbbf087-bc19-45c3-d2ca-4394cbdb8ed3"
      },
      "execution_count": 7,
      "outputs": [
        {
          "output_type": "stream",
          "name": "stdout",
          "text": [
            "Using NumPy - Accuracy: 0.6\n",
            "Precisions: [0.5, 0.3333333333333333, 1.0]\n",
            "Recalls: [0.6666666666666666, 0.5, 0.6]\n",
            "F1-Scores: [0.5714285714285715, 0.4, 0.7499999999999999]\n"
          ]
        }
      ]
    }
  ]
}